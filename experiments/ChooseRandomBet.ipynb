{
 "cells": [
  {
   "cell_type": "markdown",
   "id": "b2d066cc",
   "metadata": {},
   "source": [
    "## Get Today's Game\n",
    "The next section uses the Odds API (a paid API with a somewhat generous free tier)"
   ]
  },
  {
   "cell_type": "code",
   "execution_count": 24,
   "id": "08af0cb6",
   "metadata": {},
   "outputs": [],
   "source": [
    "import requests\n",
    "import datetime\n",
    "\n",
    "# API URL\n",
    "events_api_url = \"https://api.the-odds-api.com/v4/sports/basketball_nba/events\"\n",
    "\n",
    "# Your API key\n",
    "api_key = \"a23c9884795b77de65081cc5fa65b8ff\"\n",
    "\n",
    "\n",
    "# Create parameters for the GET request\n",
    "params = {\n",
    "    \"apiKey\": api_key,\n",
    "}\n",
    "\n",
    "def get_today_nba_events():\n",
    "    # Compute today's date in ISO format (YYYY-MM-DD)\n",
    "    today_date = datetime.date.today().isoformat()\n",
    "\n",
    "    # Send the GET request\n",
    "    response = requests.get(events_api_url, params=params)\n",
    "\n",
    "    # Check if the request was successful (status code 200)\n",
    "    if response.status_code == 200:\n",
    "        games = response.json()  # Convert the response to JSON\n",
    "        today_games = [game for game in games if game['commence_time'].startswith(today_date)]\n",
    "        if not today_games:\n",
    "            print(\"No games found for today.\")\n",
    "        return today_games\n",
    "    else:\n",
    "        print(f\"Failed to retrieve data. Status code: {response.status_code}\")\n",
    "    return []"
   ]
  },
  {
   "cell_type": "markdown",
   "id": "9e8093b8",
   "metadata": {},
   "source": [
    "## Get Player Props"
   ]
  },
  {
   "cell_type": "code",
   "execution_count": 18,
   "id": "f30040eb",
   "metadata": {},
   "outputs": [],
   "source": [
    "import requests\n",
    "\n",
    "# API URL\n",
    "event_odds_api_url = f\"https://api.the-odds-api.com/v4/sports/basketball_nba/events/{event_id}/odds\"\n",
    "\n",
    "# Your API key\n",
    "api_key = \"a23c9884795b77de65081cc5fa65b8ff\"\n",
    "\n",
    "def get_player_props(event_id):\n",
    "    # Parameters for the GET request\n",
    "    params = {\n",
    "        \"apiKey\": api_key,\n",
    "        \"regions\": \"us\",\n",
    "        \"markets\": \"player_points\",\n",
    "        \"oddsFormat\": \"american\"\n",
    "    }\n",
    "\n",
    "    # Send the GET request\n",
    "    response = requests.get(event_odds_api_url, params=params)\n",
    "\n",
    "    # Check if the request was successful (status code 200)\n",
    "    if response.status_code == 200:\n",
    "        data = response.json()\n",
    "        bookmakers = data.get(\"bookmakers\", [])\n",
    "        \n",
    "        # Find the \"fanduel\" bookmaker in the list of bookmakers\n",
    "        for bookmaker in bookmakers:\n",
    "            if bookmaker[\"key\"] == \"fanduel\":\n",
    "                fanduel_odds = []\n",
    "                markets = bookmaker.get(\"markets\", [])\n",
    "                \n",
    "                # Iterate through markets to find player_points\n",
    "                for market in markets:\n",
    "                    if market[\"key\"] == \"player_points\":\n",
    "                        outcomes = market.get(\"outcomes\", [])\n",
    "                        \n",
    "                        # Iterate through outcomes to extract Fanduel odds\n",
    "                        for outcome in outcomes:\n",
    "                            if outcome.get(\"name\") == \"Over\" or outcome.get(\"name\") == \"Under\":\n",
    "                                fanduel_odds.append({\n",
    "                                    \"name\": outcome.get(\"description\"),\n",
    "                                    \"price\": outcome.get(\"price\"),\n",
    "                                    \"point\": outcome.get(\"point\"),\n",
    "                                    \"type\": outcome.get(\"name\")\n",
    "                                })\n",
    "                \n",
    "                return fanduel_odds\n",
    "        return None  # If \"fanduel\" bookmaker not found\n",
    "    else:\n",
    "        print(f\"Failed to retrieve data. Status code: {response.status_code}\")\n",
    "        return None"
   ]
  },
  {
   "cell_type": "markdown",
   "id": "913d3c68",
   "metadata": {},
   "source": [
    "## Helpers\n"
   ]
  },
  {
   "cell_type": "code",
   "execution_count": 32,
   "id": "bf3f3b5a",
   "metadata": {},
   "outputs": [],
   "source": [
    "import datetime\n",
    "import pytz\n",
    "\n",
    "def get_date_formatted_pt(t):\n",
    "    timestamp_utc_dt = datetime.datetime.fromisoformat(t.replace('Z', '+00:00'))\n",
    "    # Define the Pacific Time (PT) timezone\n",
    "    pt_timezone = pytz.timezone('US/Pacific')\n",
    "    # Convert the datetime object to Pacific Time (PT)\n",
    "    timestamp_pt = timestamp_utc_dt.astimezone(pt_timezone)\n",
    "    # Format the timestamp in a human-readable way\n",
    "    return timestamp_pt.strftime('%Y-%m-%d %I:%M:%S %p %Z')"
   ]
  },
  {
   "cell_type": "code",
   "execution_count": 33,
   "id": "9c299eb2",
   "metadata": {},
   "outputs": [],
   "source": [
    "import requests\n",
    "import json\n",
    "\n",
    "# Replace this with your Discord webhook URL\n",
    "webhook_url = \"https://discord.com/api/webhooks/1203794391362437242/9kOW437LYjip9F_FCUu30_-DnuZhqpY1t5TtnSCNtPTKw6KZRYG18dvM8KAvlH0rBohu\"\n",
    "\n",
    "def send_to_discord(message):\n",
    "    # Create a dictionary with the message content\n",
    "    payload = {\n",
    "        \"content\": message\n",
    "    }\n",
    "\n",
    "    # Convert the payload to JSON\n",
    "    payload_json = json.dumps(payload)\n",
    "\n",
    "    # Send the POST request to the webhook URL\n",
    "    response = requests.post(webhook_url, data=payload_json, headers={'Content-Type': 'application/json'})"
   ]
  },
  {
   "cell_type": "code",
   "execution_count": 40,
   "id": "95d16c53",
   "metadata": {},
   "outputs": [],
   "source": [
    "import random\n",
    "\n",
    "events = get_today_nba_events()\n",
    "chosen_event = random.choice(events)\n",
    "event_player_props = get_player_props(chosen_event[\"id\"])\n",
    "chosen_player_prop = random.choice(event_player_props)\n",
    "\n",
    "message = f\"\"\"\n",
    "## Today's Bet\n",
    "### Game\n",
    "{chosen_event['away_team']}@{chosen_event['home_team']} starting at {get_date_formatted_pt(chosen_event['commence_time'])}.\n",
    "### Bet\n",
    "{chosen_player_prop['name']} to get {chosen_player_prop['type']} {chosen_player_prop['point']} points. Price: {chosen_player_prop['price']}\n",
    "\"\"\"\n",
    "send_to_discord(message)"
   ]
  },
  {
   "cell_type": "code",
   "execution_count": null,
   "id": "17ee2583",
   "metadata": {},
   "outputs": [],
   "source": []
  }
 ],
 "metadata": {
  "kernelspec": {
   "display_name": "Python 3 (ipykernel)",
   "language": "python",
   "name": "python3"
  },
  "language_info": {
   "codemirror_mode": {
    "name": "ipython",
    "version": 3
   },
   "file_extension": ".py",
   "mimetype": "text/x-python",
   "name": "python",
   "nbconvert_exporter": "python",
   "pygments_lexer": "ipython3",
   "version": "3.9.12"
  }
 },
 "nbformat": 4,
 "nbformat_minor": 5
}
